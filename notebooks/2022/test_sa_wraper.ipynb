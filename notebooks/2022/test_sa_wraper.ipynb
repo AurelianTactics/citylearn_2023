{
 "cells": [
  {
   "cell_type": "code",
   "execution_count": 1,
   "id": "85185a42-aa81-4ee3-8221-899b85a2d6bf",
   "metadata": {},
   "outputs": [
    {
     "name": "stderr",
     "output_type": "stream",
     "text": [
      "/home/jim/anaconda3/envs/citylearn_2022/lib/python3.9/site-packages/tqdm/auto.py:22: TqdmWarning: IProgress not found. Please update jupyter and ipywidgets. See https://ipywidgets.readthedocs.io/en/stable/user_install.html\n",
      "  from .autonotebook import tqdm as notebook_tqdm\n"
     ]
    }
   ],
   "source": [
    "import bourelal_single_agent_rllib_env_wrapper\n",
    "#from bourelal_single_agent_rllib_env_wrapper import SingleAgentCityLearnEnv\n",
    "from ray import tune\n",
    "from ray.tune.registry import register_env\n",
    "from citylearn.citylearn import CityLearnEnv\n",
    "\n",
    "\n",
    "import yaml\n",
    "from bourelal_utils import save_search_alg, get_wandb_config"
   ]
  },
  {
   "cell_type": "code",
   "execution_count": 2,
   "id": "ecee3c65-1963-4e34-99bd-0453a7e33a9a",
   "metadata": {},
   "outputs": [
    {
     "data": {
      "text/plain": [
       "array([[ 7.6923132e-02,  7.5000000e-01,  9.1999996e-01,  7.6923013e-02,\n",
       "        -4.1958153e-02,  2.7272713e-01,  7.6923013e-02,  6.3043475e-01,\n",
       "         5.6521738e-01,  2.8260875e-01,  5.6521738e-01, -9.9803728e-01,\n",
       "        -9.4896960e-01,  8.9401376e-01, -9.9803728e-01, -9.9790573e-01,\n",
       "        -7.8848171e-01,  7.0890057e-01, -9.9790573e-01, -4.8522353e-03,\n",
       "        -3.5173345e-01, -9.9795556e-01, -3.3333331e-01,  2.3553371e-03,\n",
       "        -1.3304716e-01, -1.3304716e-01, -1.3304716e-01, -1.3304716e-01],\n",
       "       [ 7.6923132e-02,  7.5000000e-01,  9.1999996e-01,  7.6923013e-02,\n",
       "        -4.1958153e-02,  2.7272713e-01,  7.6923013e-02,  6.3043475e-01,\n",
       "         5.6521738e-01,  2.8260875e-01,  5.6521738e-01, -9.9803728e-01,\n",
       "        -9.4896960e-01,  8.9401376e-01, -9.9803728e-01, -9.9790573e-01,\n",
       "        -7.8848171e-01,  7.0890057e-01, -9.9790573e-01, -4.8522353e-03,\n",
       "        -2.7881896e-01, -9.9746221e-01, -3.3333331e-01,  2.8110743e-03,\n",
       "        -1.3304716e-01, -1.3304716e-01, -1.3304716e-01, -1.3304716e-01],\n",
       "       [ 7.6923132e-02,  7.5000000e-01,  9.1999996e-01,  7.6923013e-02,\n",
       "        -4.1958153e-02,  2.7272713e-01,  7.6923013e-02,  6.3043475e-01,\n",
       "         5.6521738e-01,  2.8260875e-01,  5.6521738e-01, -9.9803728e-01,\n",
       "        -9.4896960e-01,  8.9401376e-01, -9.9803728e-01, -9.9790573e-01,\n",
       "        -7.8848171e-01,  7.0890057e-01, -9.9790573e-01, -4.8522353e-03,\n",
       "        -7.5312704e-01, -9.9763513e-01, -3.3333331e-01,  0.0000000e+00,\n",
       "        -1.3304716e-01, -1.3304716e-01, -1.3304716e-01, -1.3304716e-01],\n",
       "       [ 7.6923132e-02,  7.5000000e-01,  9.1999996e-01,  7.6923013e-02,\n",
       "        -4.1958153e-02,  2.7272713e-01,  7.6923013e-02,  6.3043475e-01,\n",
       "         5.6521738e-01,  2.8260875e-01,  5.6521738e-01, -9.9803728e-01,\n",
       "        -9.4896960e-01,  8.9401376e-01, -9.9803728e-01, -9.9790573e-01,\n",
       "        -7.8848171e-01,  7.0890057e-01, -9.9790573e-01, -4.8522353e-03,\n",
       "        -1.2701321e-01, -9.9717528e-01, -3.3333331e-01,  4.0372610e-03,\n",
       "        -1.3304716e-01, -1.3304716e-01, -1.3304716e-01, -1.3304716e-01],\n",
       "       [ 7.6923132e-02,  7.5000000e-01,  9.1999996e-01,  7.6923013e-02,\n",
       "        -4.1958153e-02,  2.7272713e-01,  7.6923013e-02,  6.3043475e-01,\n",
       "         5.6521738e-01,  2.8260875e-01,  5.6521738e-01, -9.9803728e-01,\n",
       "        -9.4896960e-01,  8.9401376e-01, -9.9803728e-01, -9.9790573e-01,\n",
       "        -7.8848171e-01,  7.0890057e-01, -9.9790573e-01, -4.8522353e-03,\n",
       "        -4.8940974e-01, -9.9756181e-01, -3.3333331e-01,  9.5367432e-04,\n",
       "        -1.3304716e-01, -1.3304716e-01, -1.3304716e-01, -1.3304716e-01]],\n",
       "      dtype=float32)"
      ]
     },
     "execution_count": 2,
     "metadata": {},
     "output_type": "execute_result"
    }
   ],
   "source": [
    "import importlib\n",
    "importlib.reload(bourelal_single_agent_rllib_env_wrapper )\n",
    "\n",
    "def env_creator_sa(args):\n",
    "    schema = 'citylearn_challenge_2022_phase_1'\n",
    "    env = CityLearnEnv(schema=schema)\n",
    "    sa_env = bourelal_single_agent_rllib_env_wrapper.SingleAgentCityLearnEnv(env)\n",
    "\n",
    "    return sa_env\n",
    "\n",
    "sa_env = env_creator_sa({})\n",
    "\n",
    "sa_env.reset()"
   ]
  },
  {
   "cell_type": "code",
   "execution_count": 3,
   "id": "5ad9a2fb-71ce-47a6-a57c-eaa316b3544e",
   "metadata": {},
   "outputs": [
    {
     "data": {
      "text/plain": [
       "(5, 28)"
      ]
     },
     "execution_count": 3,
     "metadata": {},
     "output_type": "execute_result"
    }
   ],
   "source": [
    "sa_env.reset().shape"
   ]
  },
  {
   "cell_type": "code",
   "execution_count": 18,
   "id": "15c209a8-5d12-46b3-a022-f549b35c1670",
   "metadata": {},
   "outputs": [
    {
     "name": "stdout",
     "output_type": "stream",
     "text": [
      "0\n",
      "100\n",
      "200\n",
      "300\n",
      "400\n",
      "500\n",
      "600\n",
      "700\n",
      "800\n",
      "900\n"
     ]
    }
   ],
   "source": [
    "# testing an assert statement in normalize obs\n",
    "import importlib\n",
    "importlib.reload(bourelal_single_agent_rllib_env_wrapper )\n",
    "\n",
    "sa_env.reset()\n",
    "for i in range(1000):\n",
    "    o, r, d, info = sa_env.step(sa_env.action_space.sample())\n",
    "    if i % 100 == 0:\n",
    "        print(i)\n",
    "    if d:\n",
    "        print(\"resetting env\")\n",
    "        sa_env.reset()"
   ]
  },
  {
   "cell_type": "code",
   "execution_count": 10,
   "id": "67b47e8e-1f68-4aeb-a9db-7e66571845ae",
   "metadata": {},
   "outputs": [
    {
     "data": {
      "text/plain": [
       "array([ 0.81897014,  0.40530485, -0.8800655 , -0.7283915 ,  0.25888202],\n",
       "      dtype=float32)"
      ]
     },
     "execution_count": 10,
     "metadata": {},
     "output_type": "execute_result"
    }
   ],
   "source": []
  },
  {
   "cell_type": "code",
   "execution_count": null,
   "id": "868fc199-5fb9-4ee6-959e-e3cc8472bc7b",
   "metadata": {},
   "outputs": [],
   "source": []
  }
 ],
 "metadata": {
  "kernelspec": {
   "display_name": "citylearn_2022",
   "language": "python",
   "name": "citylearn_2022"
  },
  "language_info": {
   "codemirror_mode": {
    "name": "ipython",
    "version": 3
   },
   "file_extension": ".py",
   "mimetype": "text/x-python",
   "name": "python",
   "nbconvert_exporter": "python",
   "pygments_lexer": "ipython3",
   "version": "3.9.12"
  }
 },
 "nbformat": 4,
 "nbformat_minor": 5
}
