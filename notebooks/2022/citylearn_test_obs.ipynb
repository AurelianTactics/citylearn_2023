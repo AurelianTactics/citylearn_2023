{
 "cells": [
  {
   "cell_type": "markdown",
   "id": "efaabe77-291c-4526-aba4-88de276946ff",
   "metadata": {},
   "source": [
    "#### Exploring a few things\n",
    "* Obs differences\n",
    "    * in schema:\n",
    "        * what differs for the obs and what is the same for all buildings?\n",
    "        * for the building specific ones, what is different?\n",
    "            * what keys differ?\n",
    "                * No keys differ\n",
    "            * How do the attributes differ?\n",
    "                * No attributes differ\n",
    "            * Does anything differ?\n",
    "                * one building has a pv nominal power of 4.0 the rest have 5.0\n",
    "            * How does the raw data differ?\n",
    "                * each building has its own .csv\n",
    "                * Two columns differ between the buildings\n",
    "                    * Equipment Electric Power [kWh] and Solar Generation [W/kW]\n",
    "* Env performance\n",
    "    * how long does it take the env to run through timesteps and episodes?\n",
    "* Where in the obs is the building difference?\n",
    "    * solar_generation might be one\n",
    "    * non_shiftable_load might be one? or net_electricity_consumption or electrical_storage_soc?\n",
    "    * code\n",
    "        * confirm the shared obs don't differ\n",
    "        * confirm which building specific obs differ or dont\n",
    "            * not just any difference but uniqueness\n"
   ]
  },
  {
   "cell_type": "code",
   "execution_count": 2,
   "id": "b7349f83-888c-49ca-b553-8b7984074bf2",
   "metadata": {},
   "outputs": [],
   "source": [
    "import numpy as np\n",
    "import time as time\n",
    "from citylearn.citylearn import CityLearnEnv\n",
    "import json\n"
   ]
  },
  {
   "cell_type": "markdown",
   "id": "795db736-94b1-4a82-82e8-03ad8b335bdd",
   "metadata": {},
   "source": [
    "#### Testing obs"
   ]
  },
  {
   "cell_type": "code",
   "execution_count": 3,
   "id": "ffb8e804-f095-4471-af13-a4d77f775bc7",
   "metadata": {},
   "outputs": [],
   "source": [
    "# i'm having trouble getting the actual json file to load\n",
    "# schema_path = '~/projects/citylearn_2022/citylearn-2022-starter-kit/data/citylearn_challenge_2022_phase_1/schema.json'\n",
    "# json_schema = json.load(schema_path)"
   ]
  },
  {
   "cell_type": "code",
   "execution_count": 14,
   "id": "813f039c-da9e-48e2-be57-d1305a838a0f",
   "metadata": {},
   "outputs": [
    {
     "name": "stdout",
     "output_type": "stream",
     "text": [
      "Number of shared obs 20\n",
      "Number of building specific obs 8\n",
      "{'month': 1, 'day_type': 1, 'hour': 1, 'outdoor_dry_bulb_temperature': 1, 'outdoor_dry_bulb_temperature_predicted_6h': 1, 'outdoor_dry_bulb_temperature_predicted_12h': 1, 'outdoor_dry_bulb_temperature_predicted_24h': 1, 'outdoor_relative_humidity': 1, 'outdoor_relative_humidity_predicted_6h': 1, 'outdoor_relative_humidity_predicted_12h': 1, 'outdoor_relative_humidity_predicted_24h': 1, 'diffuse_solar_irradiance': 1, 'diffuse_solar_irradiance_predicted_6h': 1, 'diffuse_solar_irradiance_predicted_12h': 1, 'diffuse_solar_irradiance_predicted_24h': 1, 'direct_solar_irradiance': 1, 'direct_solar_irradiance_predicted_6h': 1, 'direct_solar_irradiance_predicted_12h': 1, 'direct_solar_irradiance_predicted_24h': 1, 'carbon_intensity': 1}\n",
      "{'non_shiftable_load': 1, 'solar_generation': 1, 'electrical_storage_soc': 1, 'net_electricity_consumption': 1, 'electricity_pricing': 1, 'electricity_pricing_predicted_6h': 1, 'electricity_pricing_predicted_12h': 1, 'electricity_pricing_predicted_24h': 1}\n"
     ]
    }
   ],
   "source": [
    "schema = 'citylearn_challenge_2022_phase_1'\n",
    "env = CityLearnEnv(schema=schema)\n",
    "schema_dict = env._CityLearnEnv__schema\n",
    "\n",
    "shared_obs_dict = {}\n",
    "building_specific_obs_dict = {}\n",
    "\n",
    "for k, v in schema_dict['observations'].items():\n",
    "    if schema_dict['observations'][k]['active'] == True:\n",
    "        if schema_dict['observations'][k]['shared_in_central_agent']:\n",
    "            shared_obs_dict[k] = 1\n",
    "        else:\n",
    "            building_specific_obs_dict[k] = 1\n",
    "            \n",
    "print(\"Number of shared obs {}\".format(len(shared_obs_dict)))\n",
    "print(\"Number of building specific obs {}\".format(len(building_specific_obs_dict)))\n",
    "\n",
    "# testing the obs numbers match up\n",
    "assert len(env.reset()[0]) == len(shared_obs_dict) + len(building_specific_obs_dict)\n",
    "print(shared_obs_dict)\n",
    "print(building_specific_obs_dict)"
   ]
  },
  {
   "cell_type": "code",
   "execution_count": 10,
   "id": "1aad69ad-6147-4824-b6bc-5ba55c28757a",
   "metadata": {},
   "outputs": [
    {
     "ename": "TypeError",
     "evalue": "unhashable type: 'list'",
     "output_type": "error",
     "traceback": [
      "\u001b[0;31m---------------------------------------------------------------------------\u001b[0m",
      "\u001b[0;31mTypeError\u001b[0m                                 Traceback (most recent call last)",
      "Input \u001b[0;32mIn [10]\u001b[0m, in \u001b[0;36m<cell line: 9>\u001b[0;34m()\u001b[0m\n\u001b[1;32m     19\u001b[0m         \u001b[38;5;28;01melse\u001b[39;00m:\n\u001b[1;32m     20\u001b[0m             building_feature_dict[k2] \u001b[38;5;241m=\u001b[39m \u001b[38;5;241m1\u001b[39m\n\u001b[0;32m---> 21\u001b[0m             building_feature_dict[k2\u001b[38;5;241m+\u001b[39m\u001b[38;5;124m\"\u001b[39m\u001b[38;5;124m_values\u001b[39m\u001b[38;5;124m\"\u001b[39m] \u001b[38;5;241m=\u001b[39m {v2: \u001b[38;5;241m1\u001b[39m}\n\u001b[1;32m     22\u001b[0m         \u001b[38;5;66;03m# see attributes that are different\u001b[39;00m\n\u001b[1;32m     23\u001b[0m     \u001b[38;5;66;03m# go through each building, and get the different things by the keys\u001b[39;00m\n\u001b[1;32m     24\u001b[0m     \u001b[38;5;66;03m# schema_dict['buildings']\u001b[39;00m\n\u001b[0;32m   (...)\u001b[0m\n\u001b[1;32m     27\u001b[0m     \u001b[38;5;66;03m# else:\u001b[39;00m\n\u001b[1;32m     28\u001b[0m \u001b[38;5;66;03m#print(building_name_dict, building_feature_dict, attribute_dict)\u001b[39;00m\n\u001b[1;32m     29\u001b[0m \u001b[38;5;28mprint\u001b[39m( building_feature_dict )\n",
      "\u001b[0;31mTypeError\u001b[0m: unhashable type: 'list'"
     ]
    }
   ],
   "source": [
    "building_name_dict = {}\n",
    "building_feature_dict = {}\n",
    "attribute_dict = {}\n",
    "\n",
    "\n",
    "for k, v in schema_dict['buildings'].items():\n",
    "    building_name_dict[k] = k\n",
    "    \n",
    "for k, v in building_name_dict.items():\n",
    "    # print(schema_dict['buildings'][k])\n",
    "    for k2, v2 in schema_dict['buildings'][k].items():\n",
    "        # STOPPED HERE, KEYS ARE SAME BUT NEED NEW DICT OF VALUES TO SEE WHAT IS DIFFERENT\n",
    "        if k2 in building_feature_dict:\n",
    "            building_feature_dict[k2] += 1\n",
    "            if v2 in building_feature_dict[k2+\"_values\"]:\n",
    "                building_feature_dict[k2+\"_values\"][v2] += 1\n",
    "            else:\n",
    "                building_feature_dict[k2+\"_values\"][v2] = 1\n",
    "        else:\n",
    "            building_feature_dict[k2] = 1\n",
    "            #STOPPED HERE EMPTY LIST STUFF\n",
    "            building_feature_dict[k2+\"_values\"] = {v2: 1}\n",
    "        # see attributes that are different\n",
    "    # go through each building, and get the different things by the keys\n",
    "    # schema_dict['buildings']\n",
    "    # if k not in attributes_dict:\n",
    "    #     attributes_dict[k] = {}\n",
    "    # else:\n",
    "#print(building_name_dict, building_feature_dict, attribute_dict)\n",
    "print( building_feature_dict )"
   ]
  },
  {
   "cell_type": "code",
   "execution_count": 13,
   "id": "765a4c62-7865-44c4-93be-c0d05bc467d1",
   "metadata": {},
   "outputs": [
    {
     "data": {
      "text/plain": [
       "[]"
      ]
     },
     "execution_count": 13,
     "metadata": {},
     "output_type": "execute_result"
    }
   ],
   "source": [
    "schema_dict['buildings'][k][k2]"
   ]
  },
  {
   "cell_type": "code",
   "execution_count": 12,
   "id": "02ace531-eafb-497b-96af-3f2d2d8ee235",
   "metadata": {},
   "outputs": [
    {
     "data": {
      "text/plain": [
       "'inactive_observations'"
      ]
     },
     "execution_count": 12,
     "metadata": {},
     "output_type": "execute_result"
    }
   ],
   "source": [
    "k2"
   ]
  },
  {
   "cell_type": "code",
   "execution_count": 6,
   "id": "ad41eb3c-10e4-43ea-b29b-b8360c0b294f",
   "metadata": {},
   "outputs": [
    {
     "data": {
      "text/plain": [
       "{'Building_1': {'include': True,\n",
       "  'energy_simulation': 'Building_1.csv',\n",
       "  'weather': 'weather.csv',\n",
       "  'carbon_intensity': 'carbon_intensity.csv',\n",
       "  'pricing': 'pricing.csv',\n",
       "  'inactive_observations': [],\n",
       "  'inactive_actions': [],\n",
       "  'electrical_storage': {'type': 'citylearn.energy_model.Battery',\n",
       "   'autosize': False,\n",
       "   'attributes': {'capacity': 6.4,\n",
       "    'efficiency': 0.9,\n",
       "    'capacity_loss_coefficient': 1e-05,\n",
       "    'loss_coefficient': 0.0,\n",
       "    'nominal_power': 5.0,\n",
       "    'seconds_per_time_step': 3600}},\n",
       "  'pv': {'type': 'citylearn.energy_model.PV',\n",
       "   'autosize': False,\n",
       "   'attributes': {'nominal_power': 4.0, 'seconds_per_time_step': 3600}}},\n",
       " 'Building_2': {'include': True,\n",
       "  'energy_simulation': 'Building_2.csv',\n",
       "  'weather': 'weather.csv',\n",
       "  'carbon_intensity': 'carbon_intensity.csv',\n",
       "  'pricing': 'pricing.csv',\n",
       "  'inactive_observations': [],\n",
       "  'inactive_actions': [],\n",
       "  'electrical_storage': {'type': 'citylearn.energy_model.Battery',\n",
       "   'autosize': False,\n",
       "   'attributes': {'capacity': 6.4,\n",
       "    'efficiency': 0.9,\n",
       "    'capacity_loss_coefficient': 1e-05,\n",
       "    'loss_coefficient': 0.0,\n",
       "    'nominal_power': 5.0,\n",
       "    'seconds_per_time_step': 3600}},\n",
       "  'pv': {'type': 'citylearn.energy_model.PV',\n",
       "   'autosize': False,\n",
       "   'attributes': {'nominal_power': 4.0, 'seconds_per_time_step': 3600}}},\n",
       " 'Building_3': {'include': True,\n",
       "  'energy_simulation': 'Building_3.csv',\n",
       "  'weather': 'weather.csv',\n",
       "  'carbon_intensity': 'carbon_intensity.csv',\n",
       "  'pricing': 'pricing.csv',\n",
       "  'inactive_observations': [],\n",
       "  'inactive_actions': [],\n",
       "  'electrical_storage': {'type': 'citylearn.energy_model.Battery',\n",
       "   'autosize': False,\n",
       "   'attributes': {'capacity': 6.4,\n",
       "    'efficiency': 0.9,\n",
       "    'capacity_loss_coefficient': 1e-05,\n",
       "    'loss_coefficient': 0.0,\n",
       "    'nominal_power': 5.0,\n",
       "    'seconds_per_time_step': 3600}},\n",
       "  'pv': {'type': 'citylearn.energy_model.PV',\n",
       "   'autosize': False,\n",
       "   'attributes': {'nominal_power': 4.0, 'seconds_per_time_step': 3600}}},\n",
       " 'Building_4': {'include': True,\n",
       "  'energy_simulation': 'Building_4.csv',\n",
       "  'weather': 'weather.csv',\n",
       "  'carbon_intensity': 'carbon_intensity.csv',\n",
       "  'pricing': 'pricing.csv',\n",
       "  'inactive_observations': [],\n",
       "  'inactive_actions': [],\n",
       "  'electrical_storage': {'type': 'citylearn.energy_model.Battery',\n",
       "   'autosize': False,\n",
       "   'attributes': {'capacity': 6.4,\n",
       "    'efficiency': 0.9,\n",
       "    'capacity_loss_coefficient': 1e-05,\n",
       "    'loss_coefficient': 0.0,\n",
       "    'nominal_power': 5.0,\n",
       "    'seconds_per_time_step': 3600}},\n",
       "  'pv': {'type': 'citylearn.energy_model.PV',\n",
       "   'autosize': False,\n",
       "   'attributes': {'nominal_power': 5.0, 'seconds_per_time_step': 3600}}},\n",
       " 'Building_5': {'include': True,\n",
       "  'energy_simulation': 'Building_5.csv',\n",
       "  'weather': 'weather.csv',\n",
       "  'carbon_intensity': 'carbon_intensity.csv',\n",
       "  'pricing': 'pricing.csv',\n",
       "  'inactive_observations': [],\n",
       "  'inactive_actions': [],\n",
       "  'electrical_storage': {'type': 'citylearn.energy_model.Battery',\n",
       "   'autosize': False,\n",
       "   'attributes': {'capacity': 6.4,\n",
       "    'efficiency': 0.9,\n",
       "    'capacity_loss_coefficient': 1e-05,\n",
       "    'loss_coefficient': 0.0,\n",
       "    'nominal_power': 5.0,\n",
       "    'seconds_per_time_step': 3600}},\n",
       "  'pv': {'type': 'citylearn.energy_model.PV',\n",
       "   'autosize': False,\n",
       "   'attributes': {'nominal_power': 4.0, 'seconds_per_time_step': 3600}}}}"
      ]
     },
     "execution_count": 6,
     "metadata": {},
     "output_type": "execute_result"
    }
   ],
   "source": [
    "schema_dict['buildings']"
   ]
  },
  {
   "cell_type": "code",
   "execution_count": null,
   "id": "22f3bcb9-5056-461e-b1eb-546e719c6ecc",
   "metadata": {},
   "outputs": [],
   "source": []
  },
  {
   "cell_type": "markdown",
   "id": "c5cc0733-1f92-421f-a4c2-81d7d9c37726",
   "metadata": {},
   "source": [
    "#### env Performance"
   ]
  },
  {
   "cell_type": "code",
   "execution_count": 48,
   "id": "e1486913-d42f-484b-a811-dea924bfcace",
   "metadata": {},
   "outputs": [
    {
     "name": "stdout",
     "output_type": "stream",
     "text": [
      "Episode 0 finished in 596.3 seconds. Timesteps per second 14.7 \n",
      "Episode 1 finished in 532.3 seconds. Timesteps per second 32.9 \n",
      "Episode 2 finished in 526.8 seconds. Timesteps per second 49.9 \n",
      "Episode 3 finished in 528.1 seconds. Timesteps per second 66.3 \n",
      "Episode 4 finished in 529.8 seconds. Timesteps per second 82.7 \n",
      "Episode 5 finished in 528.3 seconds. Timesteps per second 99.5 \n",
      "Episode 6 finished in 528.0 seconds. Timesteps per second 116.1 \n",
      "Episode 7 finished in 528.4 seconds. Timesteps per second 132.6 \n",
      "Episode 8 finished in 529.8 seconds. Timesteps per second 148.8 \n",
      "Episode 9 finished in 528.4 seconds. Timesteps per second 165.8 \n"
     ]
    }
   ],
   "source": [
    "import time\n",
    "schema = 'citylearn_challenge_2022_phase_1'\n",
    "env = CityLearnEnv(schema=schema)\n",
    "\n",
    "\n",
    "num_episodes = 10\n",
    "num_timesteps = 0\n",
    "sample_action = [[.1]]*5\n",
    "for e in range(num_episodes):\n",
    "    env.reset()\n",
    "    time_start = time.time()\n",
    "    done = False\n",
    "    while not done:\n",
    "        num_timesteps += 1\n",
    "        _, _, done, _ = env.step(sample_action)\n",
    "        \n",
    "    run_time = time.time() - time_start\n",
    "    print(\"Episode {} finished in {:.1f} seconds. Timesteps per second {:.1f} \".format(e, run_time, num_timesteps/run_time))"
   ]
  },
  {
   "cell_type": "code",
   "execution_count": 55,
   "id": "36cf366f-1301-4e4b-9f51-0291f32175e7",
   "metadata": {},
   "outputs": [
    {
     "data": {
      "text/plain": [
       "15.471698113207546"
      ]
     },
     "execution_count": 55,
     "metadata": {},
     "output_type": "execute_result"
    }
   ],
   "source": [
    "8200/530"
   ]
  },
  {
   "cell_type": "markdown",
   "id": "c230e966-8677-4dc8-8d2a-0de018861598",
   "metadata": {},
   "source": [
    "#### Confirming the obs are the same\n",
    "* Is a picture on the discord that has the order of them\n",
    "* Each obs is a list of 5 lists\n",
    "    * zip the lists\n",
    "    * confirm the lengths\n",
    "    * if the obs are not the same then store in a dict\n",
    "        * the obs index, the timestep, the number of different entries, the entries themselves\n",
    "        * maybe print the index as well"
   ]
  },
  {
   "cell_type": "code",
   "execution_count": 49,
   "id": "7e871b9d-b93d-4e35-8661-f15c121d0889",
   "metadata": {},
   "outputs": [],
   "source": [
    "# env.reset()"
   ]
  },
  {
   "cell_type": "code",
   "execution_count": 50,
   "id": "e81b57fa-5174-4e90-951a-a8dd984791e3",
   "metadata": {},
   "outputs": [],
   "source": [
    "def tell_obs_differences(obs, oc_dict, ts):\n",
    "    num_obs = len(obs)\n",
    "    # check obs length\n",
    "    obs_length = len(obs[0])\n",
    "    for i in range(1, num_obs):\n",
    "        if len(obs[i]) != obs_length:\n",
    "            print(\"WTF the obs are different lengths\", ts, len(obs[i]), obs_length, i)\n",
    "            print(obs)\n",
    "            \n",
    "    # check if any obs are different\n",
    "    # iter over obs index\n",
    "    for obs_index in range(0, obs_length):\n",
    "        # iter over the buildings\n",
    "        check_dict = {}\n",
    "        \n",
    "        for obs_building in range(0, num_obs):\n",
    "            current_obs = obs[obs_building][obs_index]\n",
    "            if current_obs in check_dict:\n",
    "                check_dict[current_obs] += 1\n",
    "            else:\n",
    "                check_dict[current_obs] = 1\n",
    "        \n",
    "        # should only be one entry if all the same\n",
    "        if len(check_dict.keys()) > 1:\n",
    "            ts_dict = {\n",
    "                'num_differences':len(check_dict.keys()), \n",
    "                    'actual_obs':check_dict\n",
    "            }\n",
    "            if obs_index not in oc_dict:\n",
    "                oc_dict[obs_index] = {}\n",
    "                oc_dict[obs_index] = {'ts_different':1}\n",
    "            else:\n",
    "                oc_dict[obs_index]['ts_different'] += 1\n",
    "            oc_dict[obs_index][ts] = ts_dict\n",
    "                \n",
    "    return oc_dict"
   ]
  },
  {
   "cell_type": "code",
   "execution_count": 51,
   "id": "6b9a5758-8fa4-4ef8-b98c-ea749cdbdcbe",
   "metadata": {},
   "outputs": [
    {
     "name": "stdout",
     "output_type": "stream",
     "text": [
      "Episode 0 finished in 511.0 seconds. Timesteps per second 17.1 \n"
     ]
    }
   ],
   "source": [
    "import time\n",
    "schema = 'citylearn_challenge_2022_phase_1'\n",
    "env = CityLearnEnv(schema=schema)\n",
    "\n",
    "obs_check_dict = {}\n",
    "\n",
    "num_episodes = 1\n",
    "num_timesteps = 0\n",
    "sample_action = [[.1]]*5\n",
    "for e in range(num_episodes):\n",
    "    env.reset()\n",
    "    time_start = time.time()\n",
    "    done = False\n",
    "    while not done:\n",
    "        num_timesteps += 1\n",
    "        obs, _, done, _ = env.step(sample_action)\n",
    "        obs_check_dict = tell_obs_differences(obs, obs_check_dict, num_timesteps)\n",
    "    run_time = time.time() - time_start\n",
    "    print(\"Episode {} finished in {:.1f} seconds. Timesteps per second {:.1f} \".format(e, run_time, num_timesteps/run_time))"
   ]
  },
  {
   "cell_type": "code",
   "execution_count": 52,
   "id": "d244a117-ad05-42fc-88f7-eff3965dd85f",
   "metadata": {},
   "outputs": [
    {
     "name": "stdout",
     "output_type": "stream",
     "text": [
      "20 8759\n",
      "23 8759\n",
      "21 4366\n"
     ]
    }
   ],
   "source": [
    "for k, v in obs_check_dict.items():\n",
    "    print(k, obs_check_dict[k]['ts_different'])"
   ]
  },
  {
   "cell_type": "code",
   "execution_count": 53,
   "id": "14a2f58d-774d-49b1-9228-215199ce5ac4",
   "metadata": {},
   "outputs": [],
   "source": [
    "import pickle\n",
    "\n",
    "with open('obs_check_dict.pkl', 'wb') as handle:\n",
    "    pickle.dump(obs_check_dict, handle, protocol=pickle.HIGHEST_PROTOCOL)"
   ]
  },
  {
   "cell_type": "markdown",
   "id": "00586cbf-3715-494e-bebb-d9e6fea8895d",
   "metadata": {},
   "source": [
    "#### How fast is cartpole?"
   ]
  },
  {
   "cell_type": "code",
   "execution_count": 60,
   "id": "35917172-18ae-4c97-8cde-817004693bb1",
   "metadata": {},
   "outputs": [
    {
     "name": "stdout",
     "output_type": "stream",
     "text": [
      "Episode 0 finished in 0.0 seconds. Timesteps per second 31561.5 \n",
      "Episode 1 finished in 0.0 seconds. Timesteps per second 93305.5 \n",
      "Episode 2 finished in 0.0 seconds. Timesteps per second 97400.4 \n",
      "Episode 3 finished in 0.0 seconds. Timesteps per second 100071.6 \n",
      "Episode 4 finished in 0.0 seconds. Timesteps per second 64927.3 \n",
      "Episode 5 finished in 0.0 seconds. Timesteps per second 78299.3 \n",
      "Episode 6 finished in 0.0 seconds. Timesteps per second 97542.0 \n",
      "Episode 7 finished in 0.0 seconds. Timesteps per second 96866.1 \n",
      "Episode 8 finished in 0.0 seconds. Timesteps per second 101338.9 \n",
      "Episode 9 finished in 0.0 seconds. Timesteps per second 95158.7 \n"
     ]
    }
   ],
   "source": [
    "import gym\n",
    "\n",
    "cp_env = gym.make('CartPole-v0')\n",
    "\n",
    "num_episodes = 10\n",
    "for e in range(num_episodes):\n",
    "    num_timesteps = 0\n",
    "    cp_env.reset()\n",
    "    time_start = time.time()\n",
    "    done = False\n",
    "    while not done:\n",
    "        num_timesteps += 1\n",
    "        _, _, done, _ = cp_env.step(cp_env.action_space.sample())\n",
    "        #obs_check_dict = tell_obs_differences(obs, obs_check_dict, num_timesteps)\n",
    "    run_time = time.time() - time_start\n",
    "    print(\"Episode {} finished in {:.1f} seconds. Timesteps per second {:.1f} \".format(e, run_time, num_timesteps/run_time))"
   ]
  },
  {
   "cell_type": "code",
   "execution_count": 58,
   "id": "1326ca78-9e29-422d-904e-016da1e8726e",
   "metadata": {},
   "outputs": [
    {
     "data": {
      "text/plain": [
       "1"
      ]
     },
     "execution_count": 58,
     "metadata": {},
     "output_type": "execute_result"
    }
   ],
   "source": []
  },
  {
   "cell_type": "code",
   "execution_count": 62,
   "id": "c8aa8168-ff1e-4af4-a677-24ef855f8c5b",
   "metadata": {},
   "outputs": [],
   "source": [
    "obs_list = env.reset()"
   ]
  },
  {
   "cell_type": "code",
   "execution_count": 71,
   "id": "d54816dd-0d02-4e9a-8388-5139719e6d00",
   "metadata": {},
   "outputs": [
    {
     "data": {
      "text/plain": [
       "22"
      ]
     },
     "execution_count": 71,
     "metadata": {},
     "output_type": "execute_result"
    }
   ],
   "source": [
    "shared_obs_list = obs_list[0][3:20] + obs_list[0][22:23] + obs_list[0][24:]\n",
    "len(shared_obs_list)"
   ]
  },
  {
   "cell_type": "code",
   "execution_count": 67,
   "id": "34285828-f92c-4b08-ae47-25c1edab7887",
   "metadata": {},
   "outputs": [
    {
     "data": {
      "text/plain": [
       "0.0"
      ]
     },
     "execution_count": 67,
     "metadata": {},
     "output_type": "execute_result"
    }
   ],
   "source": [
    "obs_list[0][22]"
   ]
  },
  {
   "cell_type": "code",
   "execution_count": 72,
   "id": "42545fe5-3cf9-4958-bbdb-11d610b1a65c",
   "metadata": {},
   "outputs": [
    {
     "data": {
      "text/plain": [
       "15"
      ]
     },
     "execution_count": 72,
     "metadata": {},
     "output_type": "execute_result"
    }
   ],
   "source": [
    "building_obs_list = []\n",
    "for i in range(len(obs_list)):\n",
    "    building_obs_list = building_obs_list + obs_list[i][20:22] + obs_list[i][23:24]\n",
    "len(building_obs_list)"
   ]
  },
  {
   "cell_type": "code",
   "execution_count": 74,
   "id": "1e4980b2-1505-41df-b52c-8bd80f130e8d",
   "metadata": {},
   "outputs": [
    {
     "data": {
      "text/plain": [
       "5"
      ]
     },
     "execution_count": 74,
     "metadata": {},
     "output_type": "execute_result"
    }
   ],
   "source": [
    "len(env.observation_space)"
   ]
  },
  {
   "cell_type": "code",
   "execution_count": 75,
   "id": "90fdf947-79a7-4728-adc8-858828e73399",
   "metadata": {},
   "outputs": [
    {
     "data": {
      "text/plain": [
       "28"
      ]
     },
     "execution_count": 75,
     "metadata": {},
     "output_type": "execute_result"
    }
   ],
   "source": [
    "env.observation_space[0].shape[0]"
   ]
  },
  {
   "cell_type": "code",
   "execution_count": 78,
   "id": "77d1376c-3ed3-4558-bd2b-4445f448e75a",
   "metadata": {},
   "outputs": [
    {
     "data": {
      "text/plain": [
       "(4,)"
      ]
     },
     "execution_count": 78,
     "metadata": {},
     "output_type": "execute_result"
    }
   ],
   "source": [
    "a = [1,4,1,23]\n",
    "b = np.array(a, dtype='float32')\n",
    "b.shape"
   ]
  },
  {
   "cell_type": "code",
   "execution_count": 79,
   "id": "8c83d070-227b-4577-9a0f-7312f40b43b1",
   "metadata": {},
   "outputs": [
    {
     "data": {
      "text/plain": [
       "array([ 1.,  4.,  1., 23.], dtype=float32)"
      ]
     },
     "execution_count": 79,
     "metadata": {},
     "output_type": "execute_result"
    }
   ],
   "source": [
    "b"
   ]
  },
  {
   "cell_type": "code",
   "execution_count": 81,
   "id": "575a1f25-e9f1-4b35-afc0-7acdfc7f46eb",
   "metadata": {},
   "outputs": [
    {
     "data": {
      "text/plain": [
       "0.0"
      ]
     },
     "execution_count": 81,
     "metadata": {},
     "output_type": "execute_result"
    }
   ],
   "source": [
    "env.observation_space[0].low[0]"
   ]
  },
  {
   "cell_type": "code",
   "execution_count": 87,
   "id": "cf64b035-a539-47df-9e42-8735b2f7efec",
   "metadata": {},
   "outputs": [
    {
     "data": {
      "text/plain": [
       "22"
      ]
     },
     "execution_count": 87,
     "metadata": {},
     "output_type": "execute_result"
    }
   ],
   "source": [
    " len(env.observation_space[0].low[3:20].tolist() + env.observation_space[0].low[22:23].tolist() + env.observation_space[0].low[24:].tolist())"
   ]
  },
  {
   "cell_type": "code",
   "execution_count": 90,
   "id": "9b58f17f-9a61-4e56-8090-6fbc97efd81d",
   "metadata": {},
   "outputs": [
    {
     "data": {
      "text/plain": [
       "[1, 4, 1, 23, 1, 4, 1, 23]"
      ]
     },
     "execution_count": 90,
     "metadata": {},
     "output_type": "execute_result"
    }
   ],
   "source": [
    "a + a"
   ]
  },
  {
   "cell_type": "code",
   "execution_count": 93,
   "id": "79853a91-4073-46a2-8a27-a576e7f81ff7",
   "metadata": {},
   "outputs": [
    {
     "name": "stdout",
     "output_type": "stream",
     "text": [
      "[1, 4, 1, 23, 1, 4, 1, 23, 1, 4, 1, 23, 1, 4, 1, 23, 1, 4, 1, 23, 1, 4, 1, 23]\n",
      "24\n"
     ]
    }
   ],
   "source": [
    "a = [1,4,1,23]\n",
    "a.extend(a*5)\n",
    "print(a)\n",
    "print(len(a))"
   ]
  },
  {
   "cell_type": "code",
   "execution_count": 92,
   "id": "faaf5e39-c988-49fb-b088-f559cabc693e",
   "metadata": {},
   "outputs": [
    {
     "data": {
      "text/plain": [
       "[1, 4, 1, 23, 1, 4, 1, 23, 1, 4, 1, 23, 1, 4, 1, 23, 1, 4, 1, 23, 1, 4, 1, 23]"
      ]
     },
     "execution_count": 92,
     "metadata": {},
     "output_type": "execute_result"
    }
   ],
   "source": [
    "a"
   ]
  },
  {
   "cell_type": "code",
   "execution_count": 94,
   "id": "9ada1c1a-3b59-4986-b71c-011d2535fc1c",
   "metadata": {},
   "outputs": [
    {
     "data": {
      "text/plain": [
       "[-1, -1, -1, -1, -1, -1]"
      ]
     },
     "execution_count": 94,
     "metadata": {},
     "output_type": "execute_result"
    }
   ],
   "source": [
    "[-1]*6"
   ]
  },
  {
   "cell_type": "code",
   "execution_count": 100,
   "id": "110d7b3f-7409-452e-8b26-d6011eadd968",
   "metadata": {},
   "outputs": [
    {
     "data": {
      "text/plain": [
       "array([ 10,  40,  10, 230,  10,  40,  10, 230,  10,  40,  10, 230,  10,\n",
       "        40,  10, 230,  10,  40,  10, 230,  10,  40,  10, 230])"
      ]
     },
     "execution_count": 100,
     "metadata": {},
     "output_type": "execute_result"
    }
   ],
   "source": [
    "-1 * np.array(a)"
   ]
  },
  {
   "cell_type": "code",
   "execution_count": null,
   "id": "303d1bd2-a17e-487d-868c-ca5b89cf0fec",
   "metadata": {},
   "outputs": [],
   "source": []
  }
 ],
 "metadata": {
  "kernelspec": {
   "display_name": "citylearn_2022",
   "language": "python",
   "name": "citylearn_2022"
  },
  "language_info": {
   "codemirror_mode": {
    "name": "ipython",
    "version": 3
   },
   "file_extension": ".py",
   "mimetype": "text/x-python",
   "name": "python",
   "nbconvert_exporter": "python",
   "pygments_lexer": "ipython3",
   "version": "3.9.12"
  }
 },
 "nbformat": 4,
 "nbformat_minor": 5
}
