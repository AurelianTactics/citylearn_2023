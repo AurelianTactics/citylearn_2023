{
 "cells": [
  {
   "cell_type": "markdown",
   "metadata": {},
   "source": [
    "#### Exploring a few things\n",
    "* Obs differences\n",
    "    * in schema:\n",
    "        * what differs for the obs and what is the same for all buildings?\n",
    "        * for the building specific ones, what is different?\n",
    "            * what keys differ?\n",
    "                * No keys differ\n",
    "            * How do the attributes differ?\n",
    "                * No attributes differ\n",
    "            * Does anything differ?\n",
    "                * one building has a pv nominal power of 4.0 the rest have 5.0\n",
    "            * How does the raw data differ?\n",
    "                * each building has its own .csv\n",
    "                * Two columns differ between the buildings\n",
    "                    * Equipment Electric Power [kWh] and Solar Generation [W/kW]\n",
    "* Env performance\n",
    "    * how long does it take the env to run through timesteps and episodes?\n",
    "* Where in the obs is the building difference?\n",
    "    * solar_generation might be one\n",
    "    * non_shiftable_load might be one? or net_electricity_consumption or electrical_storage_soc?\n",
    "    * code\n",
    "        * confirm the shared obs don't differ\n",
    "        * confirm which building specific obs differ or dont\n",
    "            * not just any difference but uniqueness\n"
   ]
  },
  {
   "cell_type": "code",
   "execution_count": 1,
   "metadata": {},
   "outputs": [],
   "source": [
    "import numpy as np\n",
    "import time as time\n",
    "from citylearn.citylearn import CityLearnEnv\n",
    "import json\n"
   ]
  },
  {
   "cell_type": "markdown",
   "metadata": {},
   "source": [
    "#### Testing obs"
   ]
  },
  {
   "cell_type": "code",
   "execution_count": 5,
   "metadata": {},
   "outputs": [
    {
     "ename": "TypeError",
     "evalue": "__init__() takes 13 positional arguments but 16 were given",
     "output_type": "error",
     "traceback": [
      "\u001b[0;31m---------------------------------------------------------------------------\u001b[0m",
      "\u001b[0;31mTypeError\u001b[0m                                 Traceback (most recent call last)",
      "Input \u001b[0;32mIn [5]\u001b[0m, in \u001b[0;36m<cell line: 2>\u001b[0;34m()\u001b[0m\n\u001b[1;32m      1\u001b[0m schema \u001b[38;5;241m=\u001b[39m \u001b[38;5;124m'\u001b[39m\u001b[38;5;124m/home/jim/projects/citylearn_2023/citylearn-2023-starter-kit/data/schemas/warm_up/schema.json\u001b[39m\u001b[38;5;124m'\u001b[39m\n\u001b[0;32m----> 2\u001b[0m env \u001b[38;5;241m=\u001b[39m \u001b[43mCityLearnEnv\u001b[49m\u001b[43m(\u001b[49m\u001b[43mschema\u001b[49m\u001b[38;5;241;43m=\u001b[39;49m\u001b[43mschema\u001b[49m\u001b[43m)\u001b[49m\n\u001b[1;32m      3\u001b[0m schema_dict \u001b[38;5;241m=\u001b[39m env\u001b[38;5;241m.\u001b[39m_CityLearnEnv__schema\n",
      "File \u001b[0;32m~/anaconda3/envs/citylearn_2022/lib/python3.9/site-packages/citylearn/citylearn.py:37\u001b[0m, in \u001b[0;36mCityLearnEnv.__init__\u001b[0;34m(self, schema, **kwargs)\u001b[0m\n\u001b[1;32m     34\u001b[0m \u001b[38;5;28mself\u001b[39m\u001b[38;5;241m.\u001b[39mschema \u001b[38;5;241m=\u001b[39m schema\n\u001b[1;32m     35\u001b[0m \u001b[38;5;28mself\u001b[39m\u001b[38;5;241m.\u001b[39m__rewards \u001b[38;5;241m=\u001b[39m \u001b[38;5;28;01mNone\u001b[39;00m\n\u001b[1;32m     36\u001b[0m \u001b[38;5;28mself\u001b[39m\u001b[38;5;241m.\u001b[39mbuildings, \u001b[38;5;28mself\u001b[39m\u001b[38;5;241m.\u001b[39mtime_steps, \u001b[38;5;28mself\u001b[39m\u001b[38;5;241m.\u001b[39mseconds_per_time_step,\\\n\u001b[0;32m---> 37\u001b[0m     \u001b[38;5;28mself\u001b[39m\u001b[38;5;241m.\u001b[39mreward_function, \u001b[38;5;28mself\u001b[39m\u001b[38;5;241m.\u001b[39mcentral_agent, \u001b[38;5;28mself\u001b[39m\u001b[38;5;241m.\u001b[39mshared_observations \u001b[38;5;241m=\u001b[39m \u001b[38;5;28;43mself\u001b[39;49m\u001b[38;5;241;43m.\u001b[39;49m\u001b[43m__load\u001b[49m\u001b[43m(\u001b[49m\u001b[43m)\u001b[49m\n\u001b[1;32m     38\u001b[0m \u001b[38;5;28msuper\u001b[39m()\u001b[38;5;241m.\u001b[39m\u001b[38;5;21m__init__\u001b[39m(\u001b[38;5;241m*\u001b[39m\u001b[38;5;241m*\u001b[39mkwargs)\n",
      "File \u001b[0;32m~/anaconda3/envs/citylearn_2022/lib/python3.9/site-packages/citylearn/citylearn.py:723\u001b[0m, in \u001b[0;36mCityLearnEnv.__load\u001b[0;34m(self)\u001b[0m\n\u001b[1;32m    720\u001b[0m \u001b[38;5;28;01mif\u001b[39;00m building_schema[\u001b[38;5;124m'\u001b[39m\u001b[38;5;124minclude\u001b[39m\u001b[38;5;124m'\u001b[39m]:\n\u001b[1;32m    721\u001b[0m     \u001b[38;5;66;03m# data\u001b[39;00m\n\u001b[1;32m    722\u001b[0m     energy_simulation \u001b[38;5;241m=\u001b[39m pd\u001b[38;5;241m.\u001b[39mread_csv(os\u001b[38;5;241m.\u001b[39mpath\u001b[38;5;241m.\u001b[39mjoin(\u001b[38;5;28mself\u001b[39m\u001b[38;5;241m.\u001b[39mschema[\u001b[38;5;124m'\u001b[39m\u001b[38;5;124mroot_directory\u001b[39m\u001b[38;5;124m'\u001b[39m],building_schema[\u001b[38;5;124m'\u001b[39m\u001b[38;5;124menergy_simulation\u001b[39m\u001b[38;5;124m'\u001b[39m]))\u001b[38;5;241m.\u001b[39miloc[simulation_start_time_step:simulation_end_time_step \u001b[38;5;241m+\u001b[39m \u001b[38;5;241m1\u001b[39m]\u001b[38;5;241m.\u001b[39mcopy()\n\u001b[0;32m--> 723\u001b[0m     energy_simulation \u001b[38;5;241m=\u001b[39m \u001b[43mEnergySimulation\u001b[49m\u001b[43m(\u001b[49m\u001b[38;5;241;43m*\u001b[39;49m\u001b[43menergy_simulation\u001b[49m\u001b[38;5;241;43m.\u001b[39;49m\u001b[43mvalues\u001b[49m\u001b[38;5;241;43m.\u001b[39;49m\u001b[43mT\u001b[49m\u001b[43m)\u001b[49m\n\u001b[1;32m    724\u001b[0m     weather \u001b[38;5;241m=\u001b[39m pd\u001b[38;5;241m.\u001b[39mread_csv(os\u001b[38;5;241m.\u001b[39mpath\u001b[38;5;241m.\u001b[39mjoin(\u001b[38;5;28mself\u001b[39m\u001b[38;5;241m.\u001b[39mschema[\u001b[38;5;124m'\u001b[39m\u001b[38;5;124mroot_directory\u001b[39m\u001b[38;5;124m'\u001b[39m],building_schema[\u001b[38;5;124m'\u001b[39m\u001b[38;5;124mweather\u001b[39m\u001b[38;5;124m'\u001b[39m]))\u001b[38;5;241m.\u001b[39miloc[simulation_start_time_step:simulation_end_time_step \u001b[38;5;241m+\u001b[39m \u001b[38;5;241m1\u001b[39m]\u001b[38;5;241m.\u001b[39mcopy()\n\u001b[1;32m    725\u001b[0m     weather \u001b[38;5;241m=\u001b[39m Weather(\u001b[38;5;241m*\u001b[39mweather\u001b[38;5;241m.\u001b[39mvalues\u001b[38;5;241m.\u001b[39mT)\n",
      "\u001b[0;31mTypeError\u001b[0m: __init__() takes 13 positional arguments but 16 were given"
     ]
    }
   ],
   "source": [
    "schema = '/home/jim/projects/citylearn_2023/citylearn-2023-starter-kit/data/schemas/warm_up/schema.json'\n",
    "env = CityLearnEnv(schema=schema)\n",
    "schema_dict = env._CityLearnEnv__schema"
   ]
  },
  {
   "cell_type": "code",
   "execution_count": 4,
   "metadata": {},
   "outputs": [
    {
     "ename": "JSONDecodeError",
     "evalue": "Expecting value: line 1 column 1 (char 0)",
     "output_type": "error",
     "traceback": [
      "\u001b[0;31m---------------------------------------------------------------------------\u001b[0m",
      "\u001b[0;31mJSONDecodeError\u001b[0m                           Traceback (most recent call last)",
      "Input \u001b[0;32mIn [4]\u001b[0m, in \u001b[0;36m<cell line: 8>\u001b[0;34m()\u001b[0m\n\u001b[1;32m      1\u001b[0m \u001b[38;5;66;03m#     class Config:\u001b[39;00m\n\u001b[1;32m      2\u001b[0m \u001b[38;5;66;03m#         data_dir = './data/'\u001b[39;00m\n\u001b[1;32m      3\u001b[0m \u001b[38;5;66;03m#         SCHEMA = os.path.join(data_dir, 'schemas/warm_up/schema.json')\u001b[39;00m\n\u001b[1;32m      4\u001b[0m \u001b[38;5;66;03m#         num_episodes = 1\u001b[39;00m\n\u001b[1;32m      5\u001b[0m     \n\u001b[1;32m      6\u001b[0m \u001b[38;5;66;03m#     config = Config()\u001b[39;00m\n\u001b[1;32m      7\u001b[0m schema_path \u001b[38;5;241m=\u001b[39m \u001b[38;5;124m'\u001b[39m\u001b[38;5;124m/home/jim/projects/citylearn_2023/citylearn-2023-starter-kit/data/schemas/warm_up/schema.json\u001b[39m\u001b[38;5;124m'\u001b[39m\n\u001b[0;32m----> 8\u001b[0m json_schema \u001b[38;5;241m=\u001b[39m \u001b[43mjson\u001b[49m\u001b[38;5;241;43m.\u001b[39;49m\u001b[43mloads\u001b[49m\u001b[43m(\u001b[49m\u001b[43mschema_path\u001b[49m\u001b[43m)\u001b[49m\n",
      "File \u001b[0;32m~/anaconda3/envs/citylearn_2022/lib/python3.9/json/__init__.py:346\u001b[0m, in \u001b[0;36mloads\u001b[0;34m(s, cls, object_hook, parse_float, parse_int, parse_constant, object_pairs_hook, **kw)\u001b[0m\n\u001b[1;32m    341\u001b[0m     s \u001b[38;5;241m=\u001b[39m s\u001b[38;5;241m.\u001b[39mdecode(detect_encoding(s), \u001b[38;5;124m'\u001b[39m\u001b[38;5;124msurrogatepass\u001b[39m\u001b[38;5;124m'\u001b[39m)\n\u001b[1;32m    343\u001b[0m \u001b[38;5;28;01mif\u001b[39;00m (\u001b[38;5;28mcls\u001b[39m \u001b[38;5;129;01mis\u001b[39;00m \u001b[38;5;28;01mNone\u001b[39;00m \u001b[38;5;129;01mand\u001b[39;00m object_hook \u001b[38;5;129;01mis\u001b[39;00m \u001b[38;5;28;01mNone\u001b[39;00m \u001b[38;5;129;01mand\u001b[39;00m\n\u001b[1;32m    344\u001b[0m         parse_int \u001b[38;5;129;01mis\u001b[39;00m \u001b[38;5;28;01mNone\u001b[39;00m \u001b[38;5;129;01mand\u001b[39;00m parse_float \u001b[38;5;129;01mis\u001b[39;00m \u001b[38;5;28;01mNone\u001b[39;00m \u001b[38;5;129;01mand\u001b[39;00m\n\u001b[1;32m    345\u001b[0m         parse_constant \u001b[38;5;129;01mis\u001b[39;00m \u001b[38;5;28;01mNone\u001b[39;00m \u001b[38;5;129;01mand\u001b[39;00m object_pairs_hook \u001b[38;5;129;01mis\u001b[39;00m \u001b[38;5;28;01mNone\u001b[39;00m \u001b[38;5;129;01mand\u001b[39;00m \u001b[38;5;129;01mnot\u001b[39;00m kw):\n\u001b[0;32m--> 346\u001b[0m     \u001b[38;5;28;01mreturn\u001b[39;00m \u001b[43m_default_decoder\u001b[49m\u001b[38;5;241;43m.\u001b[39;49m\u001b[43mdecode\u001b[49m\u001b[43m(\u001b[49m\u001b[43ms\u001b[49m\u001b[43m)\u001b[49m\n\u001b[1;32m    347\u001b[0m \u001b[38;5;28;01mif\u001b[39;00m \u001b[38;5;28mcls\u001b[39m \u001b[38;5;129;01mis\u001b[39;00m \u001b[38;5;28;01mNone\u001b[39;00m:\n\u001b[1;32m    348\u001b[0m     \u001b[38;5;28mcls\u001b[39m \u001b[38;5;241m=\u001b[39m JSONDecoder\n",
      "File \u001b[0;32m~/anaconda3/envs/citylearn_2022/lib/python3.9/json/decoder.py:337\u001b[0m, in \u001b[0;36mJSONDecoder.decode\u001b[0;34m(self, s, _w)\u001b[0m\n\u001b[1;32m    332\u001b[0m \u001b[38;5;28;01mdef\u001b[39;00m \u001b[38;5;21mdecode\u001b[39m(\u001b[38;5;28mself\u001b[39m, s, _w\u001b[38;5;241m=\u001b[39mWHITESPACE\u001b[38;5;241m.\u001b[39mmatch):\n\u001b[1;32m    333\u001b[0m     \u001b[38;5;124;03m\"\"\"Return the Python representation of ``s`` (a ``str`` instance\u001b[39;00m\n\u001b[1;32m    334\u001b[0m \u001b[38;5;124;03m    containing a JSON document).\u001b[39;00m\n\u001b[1;32m    335\u001b[0m \n\u001b[1;32m    336\u001b[0m \u001b[38;5;124;03m    \"\"\"\u001b[39;00m\n\u001b[0;32m--> 337\u001b[0m     obj, end \u001b[38;5;241m=\u001b[39m \u001b[38;5;28;43mself\u001b[39;49m\u001b[38;5;241;43m.\u001b[39;49m\u001b[43mraw_decode\u001b[49m\u001b[43m(\u001b[49m\u001b[43ms\u001b[49m\u001b[43m,\u001b[49m\u001b[43m \u001b[49m\u001b[43midx\u001b[49m\u001b[38;5;241;43m=\u001b[39;49m\u001b[43m_w\u001b[49m\u001b[43m(\u001b[49m\u001b[43ms\u001b[49m\u001b[43m,\u001b[49m\u001b[43m \u001b[49m\u001b[38;5;241;43m0\u001b[39;49m\u001b[43m)\u001b[49m\u001b[38;5;241;43m.\u001b[39;49m\u001b[43mend\u001b[49m\u001b[43m(\u001b[49m\u001b[43m)\u001b[49m\u001b[43m)\u001b[49m\n\u001b[1;32m    338\u001b[0m     end \u001b[38;5;241m=\u001b[39m _w(s, end)\u001b[38;5;241m.\u001b[39mend()\n\u001b[1;32m    339\u001b[0m     \u001b[38;5;28;01mif\u001b[39;00m end \u001b[38;5;241m!=\u001b[39m \u001b[38;5;28mlen\u001b[39m(s):\n",
      "File \u001b[0;32m~/anaconda3/envs/citylearn_2022/lib/python3.9/json/decoder.py:355\u001b[0m, in \u001b[0;36mJSONDecoder.raw_decode\u001b[0;34m(self, s, idx)\u001b[0m\n\u001b[1;32m    353\u001b[0m     obj, end \u001b[38;5;241m=\u001b[39m \u001b[38;5;28mself\u001b[39m\u001b[38;5;241m.\u001b[39mscan_once(s, idx)\n\u001b[1;32m    354\u001b[0m \u001b[38;5;28;01mexcept\u001b[39;00m \u001b[38;5;167;01mStopIteration\u001b[39;00m \u001b[38;5;28;01mas\u001b[39;00m err:\n\u001b[0;32m--> 355\u001b[0m     \u001b[38;5;28;01mraise\u001b[39;00m JSONDecodeError(\u001b[38;5;124m\"\u001b[39m\u001b[38;5;124mExpecting value\u001b[39m\u001b[38;5;124m\"\u001b[39m, s, err\u001b[38;5;241m.\u001b[39mvalue) \u001b[38;5;28;01mfrom\u001b[39;00m \u001b[38;5;28mNone\u001b[39m\n\u001b[1;32m    356\u001b[0m \u001b[38;5;28;01mreturn\u001b[39;00m obj, end\n",
      "\u001b[0;31mJSONDecodeError\u001b[0m: Expecting value: line 1 column 1 (char 0)"
     ]
    }
   ],
   "source": [
    "#     class Config:\n",
    "#         data_dir = './data/'\n",
    "#         SCHEMA = os.path.join(data_dir, 'schemas/warm_up/schema.json')\n",
    "#         num_episodes = 1\n",
    "    \n",
    "#     config = Config()\n",
    "# schema_path = '/home/jim/projects/citylearn_2023/citylearn-2023-starter-kit/data/schemas/warm_up/schema.json'\n",
    "# json_schema = json.loads(schema_path) "
   ]
  },
  {
   "cell_type": "code",
   "execution_count": null,
   "metadata": {},
   "outputs": [],
   "source": []
  },
  {
   "cell_type": "code",
   "execution_count": 3,
   "metadata": {},
   "outputs": [],
   "source": [
    "# i'm having trouble getting the actual json file to load\n",
    "# schema_path = '~/projects/citylearn_2022/citylearn-2022-starter-kit/data/citylearn_challenge_2022_phase_1/schema.json'\n",
    "# json_schema = json.load(schema_path)"
   ]
  },
  {
   "cell_type": "code",
   "execution_count": 14,
   "metadata": {},
   "outputs": [
    {
     "name": "stdout",
     "output_type": "stream",
     "text": [
      "Number of shared obs 20\n",
      "Number of building specific obs 8\n",
      "{'month': 1, 'day_type': 1, 'hour': 1, 'outdoor_dry_bulb_temperature': 1, 'outdoor_dry_bulb_temperature_predicted_6h': 1, 'outdoor_dry_bulb_temperature_predicted_12h': 1, 'outdoor_dry_bulb_temperature_predicted_24h': 1, 'outdoor_relative_humidity': 1, 'outdoor_relative_humidity_predicted_6h': 1, 'outdoor_relative_humidity_predicted_12h': 1, 'outdoor_relative_humidity_predicted_24h': 1, 'diffuse_solar_irradiance': 1, 'diffuse_solar_irradiance_predicted_6h': 1, 'diffuse_solar_irradiance_predicted_12h': 1, 'diffuse_solar_irradiance_predicted_24h': 1, 'direct_solar_irradiance': 1, 'direct_solar_irradiance_predicted_6h': 1, 'direct_solar_irradiance_predicted_12h': 1, 'direct_solar_irradiance_predicted_24h': 1, 'carbon_intensity': 1}\n",
      "{'non_shiftable_load': 1, 'solar_generation': 1, 'electrical_storage_soc': 1, 'net_electricity_consumption': 1, 'electricity_pricing': 1, 'electricity_pricing_predicted_6h': 1, 'electricity_pricing_predicted_12h': 1, 'electricity_pricing_predicted_24h': 1}\n"
     ]
    }
   ],
   "source": [
    "schema = 'citylearn_challenge_2022_phase_1'\n",
    "env = CityLearnEnv(schema=schema)\n",
    "schema_dict = env._CityLearnEnv__schema\n",
    "\n",
    "shared_obs_dict = {}\n",
    "building_specific_obs_dict = {}\n",
    "\n",
    "for k, v in schema_dict['observations'].items():\n",
    "    if schema_dict['observations'][k]['active'] == True:\n",
    "        if schema_dict['observations'][k]['shared_in_central_agent']:\n",
    "            shared_obs_dict[k] = 1\n",
    "        else:\n",
    "            building_specific_obs_dict[k] = 1\n",
    "            \n",
    "print(\"Number of shared obs {}\".format(len(shared_obs_dict)))\n",
    "print(\"Number of building specific obs {}\".format(len(building_specific_obs_dict)))\n",
    "\n",
    "# testing the obs numbers match up\n",
    "assert len(env.reset()[0]) == len(shared_obs_dict) + len(building_specific_obs_dict)\n",
    "print(shared_obs_dict)\n",
    "print(building_specific_obs_dict)"
   ]
  },
  {
   "cell_type": "code",
   "execution_count": 10,
   "metadata": {},
   "outputs": [
    {
     "ename": "TypeError",
     "evalue": "unhashable type: 'list'",
     "output_type": "error",
     "traceback": [
      "\u001b[0;31m---------------------------------------------------------------------------\u001b[0m",
      "\u001b[0;31mTypeError\u001b[0m                                 Traceback (most recent call last)",
      "Input \u001b[0;32mIn [10]\u001b[0m, in \u001b[0;36m<cell line: 9>\u001b[0;34m()\u001b[0m\n\u001b[1;32m     19\u001b[0m         \u001b[38;5;28;01melse\u001b[39;00m:\n\u001b[1;32m     20\u001b[0m             building_feature_dict[k2] \u001b[38;5;241m=\u001b[39m \u001b[38;5;241m1\u001b[39m\n\u001b[0;32m---> 21\u001b[0m             building_feature_dict[k2\u001b[38;5;241m+\u001b[39m\u001b[38;5;124m\"\u001b[39m\u001b[38;5;124m_values\u001b[39m\u001b[38;5;124m\"\u001b[39m] \u001b[38;5;241m=\u001b[39m {v2: \u001b[38;5;241m1\u001b[39m}\n\u001b[1;32m     22\u001b[0m         \u001b[38;5;66;03m# see attributes that are different\u001b[39;00m\n\u001b[1;32m     23\u001b[0m     \u001b[38;5;66;03m# go through each building, and get the different things by the keys\u001b[39;00m\n\u001b[1;32m     24\u001b[0m     \u001b[38;5;66;03m# schema_dict['buildings']\u001b[39;00m\n\u001b[0;32m   (...)\u001b[0m\n\u001b[1;32m     27\u001b[0m     \u001b[38;5;66;03m# else:\u001b[39;00m\n\u001b[1;32m     28\u001b[0m \u001b[38;5;66;03m#print(building_name_dict, building_feature_dict, attribute_dict)\u001b[39;00m\n\u001b[1;32m     29\u001b[0m \u001b[38;5;28mprint\u001b[39m( building_feature_dict )\n",
      "\u001b[0;31mTypeError\u001b[0m: unhashable type: 'list'"
     ]
    }
   ],
   "source": [
    "building_name_dict = {}\n",
    "building_feature_dict = {}\n",
    "attribute_dict = {}\n",
    "\n",
    "\n",
    "for k, v in schema_dict['buildings'].items():\n",
    "    building_name_dict[k] = k\n",
    "    \n",
    "for k, v in building_name_dict.items():\n",
    "    # print(schema_dict['buildings'][k])\n",
    "    for k2, v2 in schema_dict['buildings'][k].items():\n",
    "        # STOPPED HERE, KEYS ARE SAME BUT NEED NEW DICT OF VALUES TO SEE WHAT IS DIFFERENT\n",
    "        if k2 in building_feature_dict:\n",
    "            building_feature_dict[k2] += 1\n",
    "            if v2 in building_feature_dict[k2+\"_values\"]:\n",
    "                building_feature_dict[k2+\"_values\"][v2] += 1\n",
    "            else:\n",
    "                building_feature_dict[k2+\"_values\"][v2] = 1\n",
    "        else:\n",
    "            building_feature_dict[k2] = 1\n",
    "            #STOPPED HERE EMPTY LIST STUFF\n",
    "            building_feature_dict[k2+\"_values\"] = {v2: 1}\n",
    "        # see attributes that are different\n",
    "    # go through each building, and get the different things by the keys\n",
    "    # schema_dict['buildings']\n",
    "    # if k not in attributes_dict:\n",
    "    #     attributes_dict[k] = {}\n",
    "    # else:\n",
    "#print(building_name_dict, building_feature_dict, attribute_dict)\n",
    "print( building_feature_dict )"
   ]
  },
  {
   "cell_type": "code",
   "execution_count": 13,
   "metadata": {},
   "outputs": [
    {
     "data": {
      "text/plain": [
       "[]"
      ]
     },
     "execution_count": 13,
     "metadata": {},
     "output_type": "execute_result"
    }
   ],
   "source": [
    "schema_dict['buildings'][k][k2]"
   ]
  },
  {
   "cell_type": "code",
   "execution_count": 12,
   "metadata": {},
   "outputs": [
    {
     "data": {
      "text/plain": [
       "'inactive_observations'"
      ]
     },
     "execution_count": 12,
     "metadata": {},
     "output_type": "execute_result"
    }
   ],
   "source": [
    "k2"
   ]
  },
  {
   "cell_type": "code",
   "execution_count": 6,
   "metadata": {},
   "outputs": [
    {
     "data": {
      "text/plain": [
       "{'Building_1': {'include': True,\n",
       "  'energy_simulation': 'Building_1.csv',\n",
       "  'weather': 'weather.csv',\n",
       "  'carbon_intensity': 'carbon_intensity.csv',\n",
       "  'pricing': 'pricing.csv',\n",
       "  'inactive_observations': [],\n",
       "  'inactive_actions': [],\n",
       "  'electrical_storage': {'type': 'citylearn.energy_model.Battery',\n",
       "   'autosize': False,\n",
       "   'attributes': {'capacity': 6.4,\n",
       "    'efficiency': 0.9,\n",
       "    'capacity_loss_coefficient': 1e-05,\n",
       "    'loss_coefficient': 0.0,\n",
       "    'nominal_power': 5.0,\n",
       "    'seconds_per_time_step': 3600}},\n",
       "  'pv': {'type': 'citylearn.energy_model.PV',\n",
       "   'autosize': False,\n",
       "   'attributes': {'nominal_power': 4.0, 'seconds_per_time_step': 3600}}},\n",
       " 'Building_2': {'include': True,\n",
       "  'energy_simulation': 'Building_2.csv',\n",
       "  'weather': 'weather.csv',\n",
       "  'carbon_intensity': 'carbon_intensity.csv',\n",
       "  'pricing': 'pricing.csv',\n",
       "  'inactive_observations': [],\n",
       "  'inactive_actions': [],\n",
       "  'electrical_storage': {'type': 'citylearn.energy_model.Battery',\n",
       "   'autosize': False,\n",
       "   'attributes': {'capacity': 6.4,\n",
       "    'efficiency': 0.9,\n",
       "    'capacity_loss_coefficient': 1e-05,\n",
       "    'loss_coefficient': 0.0,\n",
       "    'nominal_power': 5.0,\n",
       "    'seconds_per_time_step': 3600}},\n",
       "  'pv': {'type': 'citylearn.energy_model.PV',\n",
       "   'autosize': False,\n",
       "   'attributes': {'nominal_power': 4.0, 'seconds_per_time_step': 3600}}},\n",
       " 'Building_3': {'include': True,\n",
       "  'energy_simulation': 'Building_3.csv',\n",
       "  'weather': 'weather.csv',\n",
       "  'carbon_intensity': 'carbon_intensity.csv',\n",
       "  'pricing': 'pricing.csv',\n",
       "  'inactive_observations': [],\n",
       "  'inactive_actions': [],\n",
       "  'electrical_storage': {'type': 'citylearn.energy_model.Battery',\n",
       "   'autosize': False,\n",
       "   'attributes': {'capacity': 6.4,\n",
       "    'efficiency': 0.9,\n",
       "    'capacity_loss_coefficient': 1e-05,\n",
       "    'loss_coefficient': 0.0,\n",
       "    'nominal_power': 5.0,\n",
       "    'seconds_per_time_step': 3600}},\n",
       "  'pv': {'type': 'citylearn.energy_model.PV',\n",
       "   'autosize': False,\n",
       "   'attributes': {'nominal_power': 4.0, 'seconds_per_time_step': 3600}}},\n",
       " 'Building_4': {'include': True,\n",
       "  'energy_simulation': 'Building_4.csv',\n",
       "  'weather': 'weather.csv',\n",
       "  'carbon_intensity': 'carbon_intensity.csv',\n",
       "  'pricing': 'pricing.csv',\n",
       "  'inactive_observations': [],\n",
       "  'inactive_actions': [],\n",
       "  'electrical_storage': {'type': 'citylearn.energy_model.Battery',\n",
       "   'autosize': False,\n",
       "   'attributes': {'capacity': 6.4,\n",
       "    'efficiency': 0.9,\n",
       "    'capacity_loss_coefficient': 1e-05,\n",
       "    'loss_coefficient': 0.0,\n",
       "    'nominal_power': 5.0,\n",
       "    'seconds_per_time_step': 3600}},\n",
       "  'pv': {'type': 'citylearn.energy_model.PV',\n",
       "   'autosize': False,\n",
       "   'attributes': {'nominal_power': 5.0, 'seconds_per_time_step': 3600}}},\n",
       " 'Building_5': {'include': True,\n",
       "  'energy_simulation': 'Building_5.csv',\n",
       "  'weather': 'weather.csv',\n",
       "  'carbon_intensity': 'carbon_intensity.csv',\n",
       "  'pricing': 'pricing.csv',\n",
       "  'inactive_observations': [],\n",
       "  'inactive_actions': [],\n",
       "  'electrical_storage': {'type': 'citylearn.energy_model.Battery',\n",
       "   'autosize': False,\n",
       "   'attributes': {'capacity': 6.4,\n",
       "    'efficiency': 0.9,\n",
       "    'capacity_loss_coefficient': 1e-05,\n",
       "    'loss_coefficient': 0.0,\n",
       "    'nominal_power': 5.0,\n",
       "    'seconds_per_time_step': 3600}},\n",
       "  'pv': {'type': 'citylearn.energy_model.PV',\n",
       "   'autosize': False,\n",
       "   'attributes': {'nominal_power': 4.0, 'seconds_per_time_step': 3600}}}}"
      ]
     },
     "execution_count": 6,
     "metadata": {},
     "output_type": "execute_result"
    }
   ],
   "source": [
    "schema_dict['buildings']"
   ]
  },
  {
   "cell_type": "code",
   "execution_count": null,
   "metadata": {},
   "outputs": [],
   "source": []
  },
  {
   "cell_type": "markdown",
   "metadata": {},
   "source": [
    "#### env Performance"
   ]
  },
  {
   "cell_type": "code",
   "execution_count": 48,
   "metadata": {},
   "outputs": [
    {
     "name": "stdout",
     "output_type": "stream",
     "text": [
      "Episode 0 finished in 596.3 seconds. Timesteps per second 14.7 \n",
      "Episode 1 finished in 532.3 seconds. Timesteps per second 32.9 \n",
      "Episode 2 finished in 526.8 seconds. Timesteps per second 49.9 \n",
      "Episode 3 finished in 528.1 seconds. Timesteps per second 66.3 \n",
      "Episode 4 finished in 529.8 seconds. Timesteps per second 82.7 \n",
      "Episode 5 finished in 528.3 seconds. Timesteps per second 99.5 \n",
      "Episode 6 finished in 528.0 seconds. Timesteps per second 116.1 \n",
      "Episode 7 finished in 528.4 seconds. Timesteps per second 132.6 \n",
      "Episode 8 finished in 529.8 seconds. Timesteps per second 148.8 \n",
      "Episode 9 finished in 528.4 seconds. Timesteps per second 165.8 \n"
     ]
    }
   ],
   "source": [
    "import time\n",
    "schema = 'citylearn_challenge_2022_phase_1'\n",
    "env = CityLearnEnv(schema=schema)\n",
    "\n",
    "\n",
    "num_episodes = 10\n",
    "num_timesteps = 0\n",
    "sample_action = [[.1]]*5\n",
    "for e in range(num_episodes):\n",
    "    env.reset()\n",
    "    time_start = time.time()\n",
    "    done = False\n",
    "    while not done:\n",
    "        num_timesteps += 1\n",
    "        _, _, done, _ = env.step(sample_action)\n",
    "        \n",
    "    run_time = time.time() - time_start\n",
    "    print(\"Episode {} finished in {:.1f} seconds. Timesteps per second {:.1f} \".format(e, run_time, num_timesteps/run_time))"
   ]
  },
  {
   "cell_type": "code",
   "execution_count": 55,
   "metadata": {},
   "outputs": [
    {
     "data": {
      "text/plain": [
       "15.471698113207546"
      ]
     },
     "execution_count": 55,
     "metadata": {},
     "output_type": "execute_result"
    }
   ],
   "source": [
    "8200/530"
   ]
  },
  {
   "cell_type": "markdown",
   "metadata": {},
   "source": [
    "#### Confirming the obs are the same\n",
    "* Is a picture on the discord that has the order of them\n",
    "* Each obs is a list of 5 lists\n",
    "    * zip the lists\n",
    "    * confirm the lengths\n",
    "    * if the obs are not the same then store in a dict\n",
    "        * the obs index, the timestep, the number of different entries, the entries themselves\n",
    "        * maybe print the index as well"
   ]
  },
  {
   "cell_type": "code",
   "execution_count": 49,
   "metadata": {},
   "outputs": [],
   "source": [
    "# env.reset()"
   ]
  },
  {
   "cell_type": "code",
   "execution_count": 50,
   "metadata": {},
   "outputs": [],
   "source": [
    "def tell_obs_differences(obs, oc_dict, ts):\n",
    "    num_obs = len(obs)\n",
    "    # check obs length\n",
    "    obs_length = len(obs[0])\n",
    "    for i in range(1, num_obs):\n",
    "        if len(obs[i]) != obs_length:\n",
    "            print(\"WTF the obs are different lengths\", ts, len(obs[i]), obs_length, i)\n",
    "            print(obs)\n",
    "            \n",
    "    # check if any obs are different\n",
    "    # iter over obs index\n",
    "    for obs_index in range(0, obs_length):\n",
    "        # iter over the buildings\n",
    "        check_dict = {}\n",
    "        \n",
    "        for obs_building in range(0, num_obs):\n",
    "            current_obs = obs[obs_building][obs_index]\n",
    "            if current_obs in check_dict:\n",
    "                check_dict[current_obs] += 1\n",
    "            else:\n",
    "                check_dict[current_obs] = 1\n",
    "        \n",
    "        # should only be one entry if all the same\n",
    "        if len(check_dict.keys()) > 1:\n",
    "            ts_dict = {\n",
    "                'num_differences':len(check_dict.keys()), \n",
    "                    'actual_obs':check_dict\n",
    "            }\n",
    "            if obs_index not in oc_dict:\n",
    "                oc_dict[obs_index] = {}\n",
    "                oc_dict[obs_index] = {'ts_different':1}\n",
    "            else:\n",
    "                oc_dict[obs_index]['ts_different'] += 1\n",
    "            oc_dict[obs_index][ts] = ts_dict\n",
    "                \n",
    "    return oc_dict"
   ]
  },
  {
   "cell_type": "code",
   "execution_count": 51,
   "metadata": {},
   "outputs": [
    {
     "name": "stdout",
     "output_type": "stream",
     "text": [
      "Episode 0 finished in 511.0 seconds. Timesteps per second 17.1 \n"
     ]
    }
   ],
   "source": [
    "import time\n",
    "schema = 'citylearn_challenge_2022_phase_1'\n",
    "env = CityLearnEnv(schema=schema)\n",
    "\n",
    "obs_check_dict = {}\n",
    "\n",
    "num_episodes = 1\n",
    "num_timesteps = 0\n",
    "sample_action = [[.1]]*5\n",
    "for e in range(num_episodes):\n",
    "    env.reset()\n",
    "    time_start = time.time()\n",
    "    done = False\n",
    "    while not done:\n",
    "        num_timesteps += 1\n",
    "        obs, _, done, _ = env.step(sample_action)\n",
    "        obs_check_dict = tell_obs_differences(obs, obs_check_dict, num_timesteps)\n",
    "    run_time = time.time() - time_start\n",
    "    print(\"Episode {} finished in {:.1f} seconds. Timesteps per second {:.1f} \".format(e, run_time, num_timesteps/run_time))"
   ]
  },
  {
   "cell_type": "code",
   "execution_count": 52,
   "metadata": {},
   "outputs": [
    {
     "name": "stdout",
     "output_type": "stream",
     "text": [
      "20 8759\n",
      "23 8759\n",
      "21 4366\n"
     ]
    }
   ],
   "source": [
    "for k, v in obs_check_dict.items():\n",
    "    print(k, obs_check_dict[k]['ts_different'])"
   ]
  },
  {
   "cell_type": "code",
   "execution_count": 53,
   "metadata": {},
   "outputs": [],
   "source": [
    "import pickle\n",
    "\n",
    "with open('obs_check_dict.pkl', 'wb') as handle:\n",
    "    pickle.dump(obs_check_dict, handle, protocol=pickle.HIGHEST_PROTOCOL)"
   ]
  },
  {
   "cell_type": "markdown",
   "metadata": {},
   "source": [
    "#### How fast is cartpole?"
   ]
  },
  {
   "cell_type": "code",
   "execution_count": 60,
   "metadata": {},
   "outputs": [
    {
     "name": "stdout",
     "output_type": "stream",
     "text": [
      "Episode 0 finished in 0.0 seconds. Timesteps per second 31561.5 \n",
      "Episode 1 finished in 0.0 seconds. Timesteps per second 93305.5 \n",
      "Episode 2 finished in 0.0 seconds. Timesteps per second 97400.4 \n",
      "Episode 3 finished in 0.0 seconds. Timesteps per second 100071.6 \n",
      "Episode 4 finished in 0.0 seconds. Timesteps per second 64927.3 \n",
      "Episode 5 finished in 0.0 seconds. Timesteps per second 78299.3 \n",
      "Episode 6 finished in 0.0 seconds. Timesteps per second 97542.0 \n",
      "Episode 7 finished in 0.0 seconds. Timesteps per second 96866.1 \n",
      "Episode 8 finished in 0.0 seconds. Timesteps per second 101338.9 \n",
      "Episode 9 finished in 0.0 seconds. Timesteps per second 95158.7 \n"
     ]
    }
   ],
   "source": [
    "import gym\n",
    "\n",
    "cp_env = gym.make('CartPole-v0')\n",
    "\n",
    "num_episodes = 10\n",
    "for e in range(num_episodes):\n",
    "    num_timesteps = 0\n",
    "    cp_env.reset()\n",
    "    time_start = time.time()\n",
    "    done = False\n",
    "    while not done:\n",
    "        num_timesteps += 1\n",
    "        _, _, done, _ = cp_env.step(cp_env.action_space.sample())\n",
    "        #obs_check_dict = tell_obs_differences(obs, obs_check_dict, num_timesteps)\n",
    "    run_time = time.time() - time_start\n",
    "    print(\"Episode {} finished in {:.1f} seconds. Timesteps per second {:.1f} \".format(e, run_time, num_timesteps/run_time))"
   ]
  },
  {
   "cell_type": "code",
   "execution_count": 58,
   "metadata": {},
   "outputs": [
    {
     "data": {
      "text/plain": [
       "1"
      ]
     },
     "execution_count": 58,
     "metadata": {},
     "output_type": "execute_result"
    }
   ],
   "source": []
  },
  {
   "cell_type": "code",
   "execution_count": 62,
   "metadata": {},
   "outputs": [],
   "source": [
    "obs_list = env.reset()"
   ]
  },
  {
   "cell_type": "code",
   "execution_count": 71,
   "metadata": {},
   "outputs": [
    {
     "data": {
      "text/plain": [
       "22"
      ]
     },
     "execution_count": 71,
     "metadata": {},
     "output_type": "execute_result"
    }
   ],
   "source": [
    "shared_obs_list = obs_list[0][3:20] + obs_list[0][22:23] + obs_list[0][24:]\n",
    "len(shared_obs_list)"
   ]
  },
  {
   "cell_type": "code",
   "execution_count": 67,
   "metadata": {},
   "outputs": [
    {
     "data": {
      "text/plain": [
       "0.0"
      ]
     },
     "execution_count": 67,
     "metadata": {},
     "output_type": "execute_result"
    }
   ],
   "source": [
    "obs_list[0][22]"
   ]
  },
  {
   "cell_type": "code",
   "execution_count": 72,
   "metadata": {},
   "outputs": [
    {
     "data": {
      "text/plain": [
       "15"
      ]
     },
     "execution_count": 72,
     "metadata": {},
     "output_type": "execute_result"
    }
   ],
   "source": [
    "building_obs_list = []\n",
    "for i in range(len(obs_list)):\n",
    "    building_obs_list = building_obs_list + obs_list[i][20:22] + obs_list[i][23:24]\n",
    "len(building_obs_list)"
   ]
  },
  {
   "cell_type": "code",
   "execution_count": 74,
   "metadata": {},
   "outputs": [
    {
     "data": {
      "text/plain": [
       "5"
      ]
     },
     "execution_count": 74,
     "metadata": {},
     "output_type": "execute_result"
    }
   ],
   "source": [
    "len(env.observation_space)"
   ]
  },
  {
   "cell_type": "code",
   "execution_count": 75,
   "metadata": {},
   "outputs": [
    {
     "data": {
      "text/plain": [
       "28"
      ]
     },
     "execution_count": 75,
     "metadata": {},
     "output_type": "execute_result"
    }
   ],
   "source": [
    "env.observation_space[0].shape[0]"
   ]
  },
  {
   "cell_type": "code",
   "execution_count": 78,
   "metadata": {},
   "outputs": [
    {
     "data": {
      "text/plain": [
       "(4,)"
      ]
     },
     "execution_count": 78,
     "metadata": {},
     "output_type": "execute_result"
    }
   ],
   "source": [
    "a = [1,4,1,23]\n",
    "b = np.array(a, dtype='float32')\n",
    "b.shape"
   ]
  },
  {
   "cell_type": "code",
   "execution_count": 79,
   "metadata": {},
   "outputs": [
    {
     "data": {
      "text/plain": [
       "array([ 1.,  4.,  1., 23.], dtype=float32)"
      ]
     },
     "execution_count": 79,
     "metadata": {},
     "output_type": "execute_result"
    }
   ],
   "source": [
    "b"
   ]
  },
  {
   "cell_type": "code",
   "execution_count": 81,
   "metadata": {},
   "outputs": [
    {
     "data": {
      "text/plain": [
       "0.0"
      ]
     },
     "execution_count": 81,
     "metadata": {},
     "output_type": "execute_result"
    }
   ],
   "source": [
    "env.observation_space[0].low[0]"
   ]
  },
  {
   "cell_type": "code",
   "execution_count": 87,
   "metadata": {},
   "outputs": [
    {
     "data": {
      "text/plain": [
       "22"
      ]
     },
     "execution_count": 87,
     "metadata": {},
     "output_type": "execute_result"
    }
   ],
   "source": [
    " len(env.observation_space[0].low[3:20].tolist() + env.observation_space[0].low[22:23].tolist() + env.observation_space[0].low[24:].tolist())"
   ]
  },
  {
   "cell_type": "code",
   "execution_count": 90,
   "metadata": {},
   "outputs": [
    {
     "data": {
      "text/plain": [
       "[1, 4, 1, 23, 1, 4, 1, 23]"
      ]
     },
     "execution_count": 90,
     "metadata": {},
     "output_type": "execute_result"
    }
   ],
   "source": [
    "a + a"
   ]
  },
  {
   "cell_type": "code",
   "execution_count": 93,
   "metadata": {},
   "outputs": [
    {
     "name": "stdout",
     "output_type": "stream",
     "text": [
      "[1, 4, 1, 23, 1, 4, 1, 23, 1, 4, 1, 23, 1, 4, 1, 23, 1, 4, 1, 23, 1, 4, 1, 23]\n",
      "24\n"
     ]
    }
   ],
   "source": [
    "a = [1,4,1,23]\n",
    "a.extend(a*5)\n",
    "print(a)\n",
    "print(len(a))"
   ]
  },
  {
   "cell_type": "code",
   "execution_count": 92,
   "metadata": {},
   "outputs": [
    {
     "data": {
      "text/plain": [
       "[1, 4, 1, 23, 1, 4, 1, 23, 1, 4, 1, 23, 1, 4, 1, 23, 1, 4, 1, 23, 1, 4, 1, 23]"
      ]
     },
     "execution_count": 92,
     "metadata": {},
     "output_type": "execute_result"
    }
   ],
   "source": [
    "a"
   ]
  },
  {
   "cell_type": "code",
   "execution_count": 94,
   "metadata": {},
   "outputs": [
    {
     "data": {
      "text/plain": [
       "[-1, -1, -1, -1, -1, -1]"
      ]
     },
     "execution_count": 94,
     "metadata": {},
     "output_type": "execute_result"
    }
   ],
   "source": [
    "[-1]*6"
   ]
  },
  {
   "cell_type": "code",
   "execution_count": 100,
   "metadata": {},
   "outputs": [
    {
     "data": {
      "text/plain": [
       "array([ 10,  40,  10, 230,  10,  40,  10, 230,  10,  40,  10, 230,  10,\n",
       "        40,  10, 230,  10,  40,  10, 230,  10,  40,  10, 230])"
      ]
     },
     "execution_count": 100,
     "metadata": {},
     "output_type": "execute_result"
    }
   ],
   "source": [
    "-1 * np.array(a)"
   ]
  },
  {
   "cell_type": "code",
   "execution_count": null,
   "metadata": {},
   "outputs": [],
   "source": []
  }
 ],
 "metadata": {
  "kernelspec": {
   "display_name": "citylearn_2022",
   "language": "python",
   "name": "citylearn_2022"
  },
  "language_info": {
   "codemirror_mode": {
    "name": "ipython",
    "version": 3
   },
   "file_extension": ".py",
   "mimetype": "text/x-python",
   "name": "python",
   "nbconvert_exporter": "python",
   "pygments_lexer": "ipython3",
   "version": "3.9.12"
  }
 },
 "nbformat": 4,
 "nbformat_minor": 5
}
